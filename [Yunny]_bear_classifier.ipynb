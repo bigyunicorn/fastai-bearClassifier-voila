{
 "cells": [
  {
   "cell_type": "code",
   "execution_count": 21,
   "metadata": {},
   "outputs": [],
   "source": [
    "# My machine is Windows so had to do this trick.\n",
    "import pathlib\n",
    "temp = pathlib.PosixPath\n",
    "pathlib.PosixPath = pathlib.WindowsPath"
   ]
  },
  {
   "cell_type": "code",
   "execution_count": 28,
   "metadata": {
    "colab": {
     "base_uri": "https://localhost:8080/"
    },
    "id": "czXJO1-SYI42",
    "outputId": "5663f860-ce8c-4aad-8ff3-3eb78e427b0d"
   },
   "outputs": [
    {
     "name": "stdout",
     "output_type": "stream",
     "text": [
      "Requirement already satisfied: fastai==2.7.12 in c:\\users\\yunny\\anaconda3\\lib\\site-packages (from -r requirements.txt (line 1)) (2.7.12)\n",
      "Requirement already satisfied: voila==0.4.0 in c:\\users\\yunny\\anaconda3\\lib\\site-packages (from -r requirements.txt (line 2)) (0.4.0)\n",
      "Requirement already satisfied: watermark==2.3.1 in c:\\users\\yunny\\anaconda3\\lib\\site-packages (from -r requirements.txt (line 3)) (2.3.1)\n",
      "Requirement already satisfied: fastdownload<2,>=0.0.5 in c:\\users\\yunny\\anaconda3\\lib\\site-packages (from fastai==2.7.12->-r requirements.txt (line 1)) (0.0.7)\n",
      "Requirement already satisfied: matplotlib in c:\\users\\yunny\\anaconda3\\lib\\site-packages (from fastai==2.7.12->-r requirements.txt (line 1)) (3.5.2)\n",
      "Requirement already satisfied: spacy<4 in c:\\users\\yunny\\anaconda3\\lib\\site-packages (from fastai==2.7.12->-r requirements.txt (line 1)) (3.5.1)\n",
      "Requirement already satisfied: pandas in c:\\users\\yunny\\anaconda3\\lib\\site-packages (from fastai==2.7.12->-r requirements.txt (line 1)) (1.4.4)\n",
      "Requirement already satisfied: torch<2.1,>=1.7 in c:\\users\\yunny\\anaconda3\\lib\\site-packages (from fastai==2.7.12->-r requirements.txt (line 1)) (2.0.0)\n",
      "Requirement already satisfied: torchvision>=0.8.2 in c:\\users\\yunny\\anaconda3\\lib\\site-packages (from fastai==2.7.12->-r requirements.txt (line 1)) (0.15.1)\n",
      "Requirement already satisfied: pyyaml in c:\\users\\yunny\\anaconda3\\lib\\site-packages (from fastai==2.7.12->-r requirements.txt (line 1)) (6.0)\n",
      "Requirement already satisfied: pillow>6.0.0 in c:\\users\\yunny\\anaconda3\\lib\\site-packages (from fastai==2.7.12->-r requirements.txt (line 1)) (9.2.0)\n",
      "Requirement already satisfied: pip in c:\\users\\yunny\\anaconda3\\lib\\site-packages (from fastai==2.7.12->-r requirements.txt (line 1)) (22.2.2)\n",
      "Requirement already satisfied: fastcore<1.6,>=1.5.29 in c:\\users\\yunny\\anaconda3\\lib\\site-packages (from fastai==2.7.12->-r requirements.txt (line 1)) (1.5.29)\n",
      "Requirement already satisfied: scikit-learn in c:\\users\\yunny\\anaconda3\\lib\\site-packages (from fastai==2.7.12->-r requirements.txt (line 1)) (1.0.2)\n",
      "Requirement already satisfied: fastprogress>=0.2.4 in c:\\users\\yunny\\anaconda3\\lib\\site-packages (from fastai==2.7.12->-r requirements.txt (line 1)) (1.0.3)\n",
      "Requirement already satisfied: scipy in c:\\users\\yunny\\anaconda3\\lib\\site-packages (from fastai==2.7.12->-r requirements.txt (line 1)) (1.9.1)\n",
      "Requirement already satisfied: requests in c:\\users\\yunny\\anaconda3\\lib\\site-packages (from fastai==2.7.12->-r requirements.txt (line 1)) (2.28.1)\n",
      "Requirement already satisfied: packaging in c:\\users\\yunny\\anaconda3\\lib\\site-packages (from fastai==2.7.12->-r requirements.txt (line 1)) (21.3)\n",
      "Requirement already satisfied: traitlets<6,>=5.0.3 in c:\\users\\yunny\\anaconda3\\lib\\site-packages (from voila==0.4.0->-r requirements.txt (line 2)) (5.1.1)\n",
      "Requirement already satisfied: websockets>=9.0 in c:\\users\\yunny\\anaconda3\\lib\\site-packages (from voila==0.4.0->-r requirements.txt (line 2)) (11.0)\n",
      "Requirement already satisfied: jupyter-server<2.0.0,>=1.18 in c:\\users\\yunny\\anaconda3\\lib\\site-packages (from voila==0.4.0->-r requirements.txt (line 2)) (1.18.1)\n",
      "Requirement already satisfied: jupyterlab-server<3,>=2.3.0 in c:\\users\\yunny\\anaconda3\\lib\\site-packages (from voila==0.4.0->-r requirements.txt (line 2)) (2.10.3)\n",
      "Requirement already satisfied: nbconvert<8,>=6.4.5 in c:\\users\\yunny\\anaconda3\\lib\\site-packages (from voila==0.4.0->-r requirements.txt (line 2)) (7.2.10)\n",
      "Requirement already satisfied: nbclient<0.8,>=0.4.0 in c:\\users\\yunny\\anaconda3\\lib\\site-packages (from voila==0.4.0->-r requirements.txt (line 2)) (0.5.13)\n",
      "Requirement already satisfied: jupyter-client<=7.4.1,>=6.1.3 in c:\\users\\yunny\\anaconda3\\lib\\site-packages (from voila==0.4.0->-r requirements.txt (line 2)) (7.3.4)\n",
      "Requirement already satisfied: jupyter-core>=4.11.0 in c:\\users\\yunny\\anaconda3\\lib\\site-packages (from voila==0.4.0->-r requirements.txt (line 2)) (4.11.1)\n",
      "Requirement already satisfied: ipython in c:\\users\\yunny\\anaconda3\\lib\\site-packages (from watermark==2.3.1->-r requirements.txt (line 3)) (7.31.1)\n",
      "Requirement already satisfied: pyzmq>=23.0 in c:\\users\\yunny\\anaconda3\\lib\\site-packages (from jupyter-client<=7.4.1,>=6.1.3->voila==0.4.0->-r requirements.txt (line 2)) (23.2.0)\n",
      "Requirement already satisfied: python-dateutil>=2.8.2 in c:\\users\\yunny\\anaconda3\\lib\\site-packages (from jupyter-client<=7.4.1,>=6.1.3->voila==0.4.0->-r requirements.txt (line 2)) (2.8.2)\n",
      "Requirement already satisfied: tornado>=6.0 in c:\\users\\yunny\\anaconda3\\lib\\site-packages (from jupyter-client<=7.4.1,>=6.1.3->voila==0.4.0->-r requirements.txt (line 2)) (6.1)\n",
      "Requirement already satisfied: nest-asyncio>=1.5.4 in c:\\users\\yunny\\anaconda3\\lib\\site-packages (from jupyter-client<=7.4.1,>=6.1.3->voila==0.4.0->-r requirements.txt (line 2)) (1.5.5)\n",
      "Requirement already satisfied: entrypoints in c:\\users\\yunny\\anaconda3\\lib\\site-packages (from jupyter-client<=7.4.1,>=6.1.3->voila==0.4.0->-r requirements.txt (line 2)) (0.4)\n",
      "Requirement already satisfied: pywin32>=1.0 in c:\\users\\yunny\\anaconda3\\lib\\site-packages (from jupyter-core>=4.11.0->voila==0.4.0->-r requirements.txt (line 2)) (302)\n",
      "Requirement already satisfied: Send2Trash in c:\\users\\yunny\\anaconda3\\lib\\site-packages (from jupyter-server<2.0.0,>=1.18->voila==0.4.0->-r requirements.txt (line 2)) (1.8.0)\n",
      "Requirement already satisfied: websocket-client in c:\\users\\yunny\\anaconda3\\lib\\site-packages (from jupyter-server<2.0.0,>=1.18->voila==0.4.0->-r requirements.txt (line 2)) (0.58.0)\n",
      "Requirement already satisfied: argon2-cffi in c:\\users\\yunny\\anaconda3\\lib\\site-packages (from jupyter-server<2.0.0,>=1.18->voila==0.4.0->-r requirements.txt (line 2)) (21.3.0)\n",
      "Requirement already satisfied: nbformat>=5.2.0 in c:\\users\\yunny\\anaconda3\\lib\\site-packages (from jupyter-server<2.0.0,>=1.18->voila==0.4.0->-r requirements.txt (line 2)) (5.5.0)\n",
      "Requirement already satisfied: terminado>=0.8.3 in c:\\users\\yunny\\anaconda3\\lib\\site-packages (from jupyter-server<2.0.0,>=1.18->voila==0.4.0->-r requirements.txt (line 2)) (0.13.1)\n",
      "Requirement already satisfied: pywinpty in c:\\users\\yunny\\anaconda3\\lib\\site-packages (from jupyter-server<2.0.0,>=1.18->voila==0.4.0->-r requirements.txt (line 2)) (2.0.2)\n",
      "Requirement already satisfied: prometheus-client in c:\\users\\yunny\\anaconda3\\lib\\site-packages (from jupyter-server<2.0.0,>=1.18->voila==0.4.0->-r requirements.txt (line 2)) (0.14.1)\n",
      "Requirement already satisfied: anyio<4,>=3.1.0 in c:\\users\\yunny\\anaconda3\\lib\\site-packages (from jupyter-server<2.0.0,>=1.18->voila==0.4.0->-r requirements.txt (line 2)) (3.5.0)\n",
      "Requirement already satisfied: jinja2 in c:\\users\\yunny\\anaconda3\\lib\\site-packages (from jupyter-server<2.0.0,>=1.18->voila==0.4.0->-r requirements.txt (line 2)) (3.1.2)\n",
      "Requirement already satisfied: babel in c:\\users\\yunny\\anaconda3\\lib\\site-packages (from jupyterlab-server<3,>=2.3.0->voila==0.4.0->-r requirements.txt (line 2)) (2.9.1)\n",
      "Requirement already satisfied: jsonschema>=3.0.1 in c:\\users\\yunny\\anaconda3\\lib\\site-packages (from jupyterlab-server<3,>=2.3.0->voila==0.4.0->-r requirements.txt (line 2)) (4.16.0)\n",
      "Requirement already satisfied: json5 in c:\\users\\yunny\\anaconda3\\lib\\site-packages (from jupyterlab-server<3,>=2.3.0->voila==0.4.0->-r requirements.txt (line 2)) (0.9.6)\n",
      "Requirement already satisfied: mistune<3,>=2.0.3 in c:\\users\\yunny\\anaconda3\\lib\\site-packages (from nbconvert<8,>=6.4.5->voila==0.4.0->-r requirements.txt (line 2)) (2.0.5)\n",
      "Requirement already satisfied: pygments>=2.4.1 in c:\\users\\yunny\\anaconda3\\lib\\site-packages (from nbconvert<8,>=6.4.5->voila==0.4.0->-r requirements.txt (line 2)) (2.11.2)\n",
      "Requirement already satisfied: beautifulsoup4 in c:\\users\\yunny\\anaconda3\\lib\\site-packages (from nbconvert<8,>=6.4.5->voila==0.4.0->-r requirements.txt (line 2)) (4.11.1)\n",
      "Requirement already satisfied: jupyterlab-pygments in c:\\users\\yunny\\anaconda3\\lib\\site-packages (from nbconvert<8,>=6.4.5->voila==0.4.0->-r requirements.txt (line 2)) (0.1.2)\n",
      "Requirement already satisfied: tinycss2 in c:\\users\\yunny\\anaconda3\\lib\\site-packages (from nbconvert<8,>=6.4.5->voila==0.4.0->-r requirements.txt (line 2)) (1.2.1)\n",
      "Requirement already satisfied: bleach in c:\\users\\yunny\\anaconda3\\lib\\site-packages (from nbconvert<8,>=6.4.5->voila==0.4.0->-r requirements.txt (line 2)) (4.1.0)\n",
      "Requirement already satisfied: pandocfilters>=1.4.1 in c:\\users\\yunny\\anaconda3\\lib\\site-packages (from nbconvert<8,>=6.4.5->voila==0.4.0->-r requirements.txt (line 2)) (1.5.0)\n",
      "Requirement already satisfied: importlib-metadata>=3.6 in c:\\users\\yunny\\anaconda3\\lib\\site-packages (from nbconvert<8,>=6.4.5->voila==0.4.0->-r requirements.txt (line 2)) (4.11.3)\n",
      "Requirement already satisfied: defusedxml in c:\\users\\yunny\\anaconda3\\lib\\site-packages (from nbconvert<8,>=6.4.5->voila==0.4.0->-r requirements.txt (line 2)) (0.7.1)\n",
      "Requirement already satisfied: markupsafe>=2.0 in c:\\users\\yunny\\anaconda3\\lib\\site-packages (from nbconvert<8,>=6.4.5->voila==0.4.0->-r requirements.txt (line 2)) (2.0.1)\n",
      "Requirement already satisfied: spacy-loggers<2.0.0,>=1.0.0 in c:\\users\\yunny\\anaconda3\\lib\\site-packages (from spacy<4->fastai==2.7.12->-r requirements.txt (line 1)) (1.0.4)\n",
      "Requirement already satisfied: catalogue<2.1.0,>=2.0.6 in c:\\users\\yunny\\anaconda3\\lib\\site-packages (from spacy<4->fastai==2.7.12->-r requirements.txt (line 1)) (2.0.8)\n",
      "Requirement already satisfied: cymem<2.1.0,>=2.0.2 in c:\\users\\yunny\\anaconda3\\lib\\site-packages (from spacy<4->fastai==2.7.12->-r requirements.txt (line 1)) (2.0.7)\n",
      "Requirement already satisfied: srsly<3.0.0,>=2.4.3 in c:\\users\\yunny\\anaconda3\\lib\\site-packages (from spacy<4->fastai==2.7.12->-r requirements.txt (line 1)) (2.4.6)\n",
      "Requirement already satisfied: tqdm<5.0.0,>=4.38.0 in c:\\users\\yunny\\anaconda3\\lib\\site-packages (from spacy<4->fastai==2.7.12->-r requirements.txt (line 1)) (4.64.1)\n",
      "Requirement already satisfied: langcodes<4.0.0,>=3.2.0 in c:\\users\\yunny\\anaconda3\\lib\\site-packages (from spacy<4->fastai==2.7.12->-r requirements.txt (line 1)) (3.3.0)\n",
      "Requirement already satisfied: murmurhash<1.1.0,>=0.28.0 in c:\\users\\yunny\\anaconda3\\lib\\site-packages (from spacy<4->fastai==2.7.12->-r requirements.txt (line 1)) (1.0.9)\n",
      "Requirement already satisfied: numpy>=1.15.0 in c:\\users\\yunny\\anaconda3\\lib\\site-packages (from spacy<4->fastai==2.7.12->-r requirements.txt (line 1)) (1.21.5)\n",
      "Requirement already satisfied: smart-open<7.0.0,>=5.2.1 in c:\\users\\yunny\\anaconda3\\lib\\site-packages (from spacy<4->fastai==2.7.12->-r requirements.txt (line 1)) (5.2.1)\n",
      "Requirement already satisfied: wasabi<1.2.0,>=0.9.1 in c:\\users\\yunny\\anaconda3\\lib\\site-packages (from spacy<4->fastai==2.7.12->-r requirements.txt (line 1)) (1.1.1)\n",
      "Requirement already satisfied: pathy>=0.10.0 in c:\\users\\yunny\\anaconda3\\lib\\site-packages (from spacy<4->fastai==2.7.12->-r requirements.txt (line 1)) (0.10.1)\n",
      "Requirement already satisfied: spacy-legacy<3.1.0,>=3.0.11 in c:\\users\\yunny\\anaconda3\\lib\\site-packages (from spacy<4->fastai==2.7.12->-r requirements.txt (line 1)) (3.0.12)\n",
      "Requirement already satisfied: thinc<8.2.0,>=8.1.8 in c:\\users\\yunny\\anaconda3\\lib\\site-packages (from spacy<4->fastai==2.7.12->-r requirements.txt (line 1)) (8.1.9)\n",
      "Requirement already satisfied: typer<0.8.0,>=0.3.0 in c:\\users\\yunny\\anaconda3\\lib\\site-packages (from spacy<4->fastai==2.7.12->-r requirements.txt (line 1)) (0.7.0)\n",
      "Requirement already satisfied: setuptools in c:\\users\\yunny\\anaconda3\\lib\\site-packages (from spacy<4->fastai==2.7.12->-r requirements.txt (line 1)) (63.4.1)\n",
      "Requirement already satisfied: pydantic!=1.8,!=1.8.1,<1.11.0,>=1.7.4 in c:\\users\\yunny\\anaconda3\\lib\\site-packages (from spacy<4->fastai==2.7.12->-r requirements.txt (line 1)) (1.10.7)\n",
      "Requirement already satisfied: preshed<3.1.0,>=3.0.2 in c:\\users\\yunny\\anaconda3\\lib\\site-packages (from spacy<4->fastai==2.7.12->-r requirements.txt (line 1)) (3.0.8)\n",
      "Requirement already satisfied: pyparsing!=3.0.5,>=2.0.2 in c:\\users\\yunny\\anaconda3\\lib\\site-packages (from packaging->fastai==2.7.12->-r requirements.txt (line 1)) (3.0.9)\n",
      "Requirement already satisfied: urllib3<1.27,>=1.21.1 in c:\\users\\yunny\\anaconda3\\lib\\site-packages (from requests->fastai==2.7.12->-r requirements.txt (line 1)) (1.26.11)\n",
      "Requirement already satisfied: certifi>=2017.4.17 in c:\\users\\yunny\\anaconda3\\lib\\site-packages (from requests->fastai==2.7.12->-r requirements.txt (line 1)) (2022.9.14)\n",
      "Requirement already satisfied: idna<4,>=2.5 in c:\\users\\yunny\\anaconda3\\lib\\site-packages (from requests->fastai==2.7.12->-r requirements.txt (line 1)) (3.3)\n",
      "Requirement already satisfied: charset-normalizer<3,>=2 in c:\\users\\yunny\\anaconda3\\lib\\site-packages (from requests->fastai==2.7.12->-r requirements.txt (line 1)) (2.0.4)\n",
      "Requirement already satisfied: typing-extensions in c:\\users\\yunny\\anaconda3\\lib\\site-packages (from torch<2.1,>=1.7->fastai==2.7.12->-r requirements.txt (line 1)) (4.3.0)\n",
      "Requirement already satisfied: sympy in c:\\users\\yunny\\anaconda3\\lib\\site-packages (from torch<2.1,>=1.7->fastai==2.7.12->-r requirements.txt (line 1)) (1.10.1)\n",
      "Requirement already satisfied: filelock in c:\\users\\yunny\\anaconda3\\lib\\site-packages (from torch<2.1,>=1.7->fastai==2.7.12->-r requirements.txt (line 1)) (3.6.0)\n",
      "Requirement already satisfied: networkx in c:\\users\\yunny\\anaconda3\\lib\\site-packages (from torch<2.1,>=1.7->fastai==2.7.12->-r requirements.txt (line 1)) (2.8.4)\n",
      "Requirement already satisfied: pickleshare in c:\\users\\yunny\\anaconda3\\lib\\site-packages (from ipython->watermark==2.3.1->-r requirements.txt (line 3)) (0.7.5)\n",
      "Requirement already satisfied: backcall in c:\\users\\yunny\\anaconda3\\lib\\site-packages (from ipython->watermark==2.3.1->-r requirements.txt (line 3)) (0.2.0)\n",
      "Requirement already satisfied: jedi>=0.16 in c:\\users\\yunny\\anaconda3\\lib\\site-packages (from ipython->watermark==2.3.1->-r requirements.txt (line 3)) (0.18.1)\n",
      "Requirement already satisfied: decorator in c:\\users\\yunny\\anaconda3\\lib\\site-packages (from ipython->watermark==2.3.1->-r requirements.txt (line 3)) (5.1.1)\n",
      "Requirement already satisfied: matplotlib-inline in c:\\users\\yunny\\anaconda3\\lib\\site-packages (from ipython->watermark==2.3.1->-r requirements.txt (line 3)) (0.1.6)\n",
      "Requirement already satisfied: colorama in c:\\users\\yunny\\anaconda3\\lib\\site-packages (from ipython->watermark==2.3.1->-r requirements.txt (line 3)) (0.4.6)\n",
      "Requirement already satisfied: prompt-toolkit!=3.0.0,!=3.0.1,<3.1.0,>=2.0.0 in c:\\users\\yunny\\anaconda3\\lib\\site-packages (from ipython->watermark==2.3.1->-r requirements.txt (line 3)) (3.0.20)\n",
      "Requirement already satisfied: kiwisolver>=1.0.1 in c:\\users\\yunny\\anaconda3\\lib\\site-packages (from matplotlib->fastai==2.7.12->-r requirements.txt (line 1)) (1.4.2)\n",
      "Requirement already satisfied: cycler>=0.10 in c:\\users\\yunny\\anaconda3\\lib\\site-packages (from matplotlib->fastai==2.7.12->-r requirements.txt (line 1)) (0.11.0)\n",
      "Requirement already satisfied: fonttools>=4.22.0 in c:\\users\\yunny\\anaconda3\\lib\\site-packages (from matplotlib->fastai==2.7.12->-r requirements.txt (line 1)) (4.25.0)\n",
      "Requirement already satisfied: pytz>=2020.1 in c:\\users\\yunny\\anaconda3\\lib\\site-packages (from pandas->fastai==2.7.12->-r requirements.txt (line 1)) (2022.1)\n",
      "Requirement already satisfied: threadpoolctl>=2.0.0 in c:\\users\\yunny\\anaconda3\\lib\\site-packages (from scikit-learn->fastai==2.7.12->-r requirements.txt (line 1)) (2.2.0)\n",
      "Requirement already satisfied: joblib>=0.11 in c:\\users\\yunny\\anaconda3\\lib\\site-packages (from scikit-learn->fastai==2.7.12->-r requirements.txt (line 1)) (1.1.0)\n",
      "Requirement already satisfied: sniffio>=1.1 in c:\\users\\yunny\\anaconda3\\lib\\site-packages (from anyio<4,>=3.1.0->jupyter-server<2.0.0,>=1.18->voila==0.4.0->-r requirements.txt (line 2)) (1.2.0)\n",
      "Requirement already satisfied: zipp>=0.5 in c:\\users\\yunny\\anaconda3\\lib\\site-packages (from importlib-metadata>=3.6->nbconvert<8,>=6.4.5->voila==0.4.0->-r requirements.txt (line 2)) (3.8.0)\n",
      "Requirement already satisfied: parso<0.9.0,>=0.8.0 in c:\\users\\yunny\\anaconda3\\lib\\site-packages (from jedi>=0.16->ipython->watermark==2.3.1->-r requirements.txt (line 3)) (0.8.3)\n",
      "Requirement already satisfied: pyrsistent!=0.17.0,!=0.17.1,!=0.17.2,>=0.14.0 in c:\\users\\yunny\\anaconda3\\lib\\site-packages (from jsonschema>=3.0.1->jupyterlab-server<3,>=2.3.0->voila==0.4.0->-r requirements.txt (line 2)) (0.18.0)\n",
      "Requirement already satisfied: attrs>=17.4.0 in c:\\users\\yunny\\anaconda3\\lib\\site-packages (from jsonschema>=3.0.1->jupyterlab-server<3,>=2.3.0->voila==0.4.0->-r requirements.txt (line 2)) (21.4.0)\n",
      "Requirement already satisfied: fastjsonschema in c:\\users\\yunny\\anaconda3\\lib\\site-packages (from nbformat>=5.2.0->jupyter-server<2.0.0,>=1.18->voila==0.4.0->-r requirements.txt (line 2)) (2.16.2)\n",
      "Requirement already satisfied: wcwidth in c:\\users\\yunny\\anaconda3\\lib\\site-packages (from prompt-toolkit!=3.0.0,!=3.0.1,<3.1.0,>=2.0.0->ipython->watermark==2.3.1->-r requirements.txt (line 3)) (0.2.5)\n",
      "Requirement already satisfied: six>=1.5 in c:\\users\\yunny\\anaconda3\\lib\\site-packages (from python-dateutil>=2.8.2->jupyter-client<=7.4.1,>=6.1.3->voila==0.4.0->-r requirements.txt (line 2)) (1.16.0)\n",
      "Requirement already satisfied: blis<0.8.0,>=0.7.8 in c:\\users\\yunny\\anaconda3\\lib\\site-packages (from thinc<8.2.0,>=8.1.8->spacy<4->fastai==2.7.12->-r requirements.txt (line 1)) (0.7.9)\n",
      "Requirement already satisfied: confection<1.0.0,>=0.0.1 in c:\\users\\yunny\\anaconda3\\lib\\site-packages (from thinc<8.2.0,>=8.1.8->spacy<4->fastai==2.7.12->-r requirements.txt (line 1)) (0.0.4)\n",
      "Requirement already satisfied: click<9.0.0,>=7.1.1 in c:\\users\\yunny\\anaconda3\\lib\\site-packages (from typer<0.8.0,>=0.3.0->spacy<4->fastai==2.7.12->-r requirements.txt (line 1)) (8.0.4)\n",
      "Requirement already satisfied: argon2-cffi-bindings in c:\\users\\yunny\\anaconda3\\lib\\site-packages (from argon2-cffi->jupyter-server<2.0.0,>=1.18->voila==0.4.0->-r requirements.txt (line 2)) (21.2.0)\n",
      "Requirement already satisfied: soupsieve>1.2 in c:\\users\\yunny\\anaconda3\\lib\\site-packages (from beautifulsoup4->nbconvert<8,>=6.4.5->voila==0.4.0->-r requirements.txt (line 2)) (2.3.1)\n",
      "Requirement already satisfied: webencodings in c:\\users\\yunny\\anaconda3\\lib\\site-packages (from bleach->nbconvert<8,>=6.4.5->voila==0.4.0->-r requirements.txt (line 2)) (0.5.1)\n",
      "Requirement already satisfied: mpmath>=0.19 in c:\\users\\yunny\\anaconda3\\lib\\site-packages (from sympy->torch<2.1,>=1.7->fastai==2.7.12->-r requirements.txt (line 1)) (1.2.1)\n",
      "Requirement already satisfied: cffi>=1.0.1 in c:\\users\\yunny\\anaconda3\\lib\\site-packages (from argon2-cffi-bindings->argon2-cffi->jupyter-server<2.0.0,>=1.18->voila==0.4.0->-r requirements.txt (line 2)) (1.15.1)\n",
      "Requirement already satisfied: pycparser in c:\\users\\yunny\\anaconda3\\lib\\site-packages (from cffi>=1.0.1->argon2-cffi-bindings->argon2-cffi->jupyter-server<2.0.0,>=1.18->voila==0.4.0->-r requirements.txt (line 2)) (2.21)\n"
     ]
    }
   ],
   "source": [
    "#!pip install -Uqq fastai\n",
    "#!pip install voila\n",
    "!pip install -r requirements.txt"
   ]
  },
  {
   "cell_type": "code",
   "execution_count": null,
   "metadata": {
    "colab": {
     "base_uri": "https://localhost:8080/",
     "height": 36
    },
    "id": "CY4IpAbTYS9a",
    "outputId": "1dd1e1c5-ef06-43b3-d0a1-cc5468dd6d6a"
   },
   "outputs": [],
   "source": [
    "import fastai\n",
    "from fastai.vision.all import *\n",
    "from fastai.vision.widgets import *"
   ]
  },
  {
   "cell_type": "code",
   "execution_count": 23,
   "metadata": {},
   "outputs": [
    {
     "name": "stdout",
     "output_type": "stream",
     "text": [
      ".\n"
     ]
    },
    {
     "data": {
      "text/plain": [
       "(#1) [Path('requirements.txt')]"
      ]
     },
     "execution_count": 23,
     "metadata": {},
     "output_type": "execute_result"
    }
   ],
   "source": [
    "path = Path()\n",
    "print(path)\n",
    "path.ls(file_exts='.txt')"
   ]
  },
  {
   "cell_type": "code",
   "execution_count": null,
   "metadata": {},
   "outputs": [],
   "source": [
    "!jupyter serverextension enable --sys-prefix voila"
   ]
  },
  {
   "cell_type": "code",
   "execution_count": null,
   "metadata": {},
   "outputs": [],
   "source": [
    "#!pip install "
   ]
  },
  {
   "cell_type": "code",
   "execution_count": null,
   "metadata": {
    "colab": {
     "base_uri": "https://localhost:8080/"
    },
    "id": "JXbxbkQoXQP-",
    "outputId": "ff8cc794-ce90-417a-e46d-b37dfda3e738"
   },
   "outputs": [],
   "source": [
    "path = Path()\n",
    "print(path)\n",
    "path.ls(file_exts='.pkl')"
   ]
  },
  {
   "cell_type": "code",
   "execution_count": null,
   "metadata": {
    "id": "9Jv1bi6YXeQZ"
   },
   "outputs": [],
   "source": [
    "learn_inf = load_learner(path/'export.pkl', cpu=True) # this model is newly trained by my own code. "
   ]
  },
  {
   "cell_type": "markdown",
   "metadata": {
    "id": "WYxakjUxWQOz"
   },
   "source": [
    "# The Amazing Bear Classifier!"
   ]
  },
  {
   "cell_type": "markdown",
   "metadata": {
    "id": "J6txpLQ6WQO0"
   },
   "source": [
    "You need to know whether you're being chased by a dangerous grizzly, or a sweet teddy bear, and you need an answer *fast*? Then you've come to the right place. Take a pic of the potentially vicious killer, and click 'upload' to classify it. (Important: this only handles grizzly bears, black bears, and teddy bears. It will **not** give a sensible answer for polar bears, a bear market, a bear of a man, or hot dogs.\n",
    "\n",
    "----"
   ]
  },
  {
   "cell_type": "code",
   "execution_count": null,
   "metadata": {
    "id": "ihwCMxhxWQO1"
   },
   "outputs": [],
   "source": [
    "path = Path()\n",
    "learn_inf = load_learner(path/'export.pkl', cpu=True)\n",
    "btn_upload = widgets.FileUpload()\n",
    "out_pl = widgets.Output()\n",
    "lbl_pred = widgets.Label()"
   ]
  },
  {
   "cell_type": "code",
   "execution_count": null,
   "metadata": {
    "id": "SKV2OhyAWQO2"
   },
   "outputs": [],
   "source": [
    "def on_data_change(change):\n",
    "    lbl_pred.value = ''\n",
    "    img = PILImage.create(btn_upload.data[-1])\n",
    "    out_pl.clear_output()\n",
    "    with out_pl: display(img.to_thumb(128,128))\n",
    "    pred,pred_idx,probs = learn_inf.predict(img)\n",
    "    lbl_pred.value = f'Prediction: {pred}; Probability: {probs[pred_idx]:.04f}'"
   ]
  },
  {
   "cell_type": "code",
   "execution_count": null,
   "metadata": {
    "id": "zo2qaN3fWQO3"
   },
   "outputs": [],
   "source": [
    "btn_upload.observe(on_data_change, names=['data'])"
   ]
  },
  {
   "cell_type": "code",
   "execution_count": null,
   "metadata": {
    "colab": {
     "base_uri": "https://localhost:8080/",
     "height": 495,
     "referenced_widgets": [
      "97ec5b11f0f04295a18fffa68c2131e5",
      "91a4a4f8f85f4c7cabcc983004ad2b5c",
      "5f4766aa665c4379b06790a8f2b4d95f",
      "c4a4502f686e471fbf844be085fc2424",
      "840078e742b046edae16ee2710c621ab",
      "8858eb581dc74a52bc9c61ebcab7d454",
      "3e13e8abc6074ad896752df447fc83ab",
      "8521968fa1a94c028e39453aec99a264",
      "f8b10f533ef7484f9ec7deb49326fe36",
      "3326da0e659643c5bf5d0be37e7a564e",
      "eafa8c0639534f93be2d69d723a2afa7",
      "2e523ef50c7a482eafd3418be8256c2c",
      "ef2540f2640046bf9bba043fc0e49331"
     ]
    },
    "id": "TIHOoPO3WQO3",
    "outputId": "ca92a48a-a285-42f1-a733-5be1d91662f3",
    "scrolled": false
   },
   "outputs": [],
   "source": [
    "display(VBox([widgets.Label('Select your bear!'), btn_upload, out_pl, lbl_pred])) # it is having an issue to render. I think this is an issue that i consisntely encountered; "
   ]
  },
  {
   "cell_type": "code",
   "execution_count": null,
   "metadata": {},
   "outputs": [],
   "source": [
    "pip install watermark"
   ]
  },
  {
   "cell_type": "code",
   "execution_count": null,
   "metadata": {},
   "outputs": [],
   "source": [
    "%load_ext watermark\n",
    "\n",
    "# python, ipython, packages, and machine characteristics\n",
    "%watermark -v -m -p fastai,voila,watermark \n",
    "\n",
    "# date\n",
    "print (\" \")\n",
    "%watermark -u -n -t -z "
   ]
  }
 ],
 "metadata": {
  "colab": {
   "provenance": []
  },
  "jupytext": {
   "split_at_heading": true
  },
  "kernelspec": {
   "display_name": "Python 3 (ipykernel)",
   "language": "python",
   "name": "python3"
  },
  "language_info": {
   "codemirror_mode": {
    "name": "ipython",
    "version": 3
   },
   "file_extension": ".py",
   "mimetype": "text/x-python",
   "name": "python",
   "nbconvert_exporter": "python",
   "pygments_lexer": "ipython3",
   "version": "3.9.13"
  },
  "toc": {
   "base_numbering": 1,
   "nav_menu": {},
   "number_sections": false,
   "sideBar": true,
   "skip_h1_title": true,
   "title_cell": "Table of Contents",
   "title_sidebar": "Contents",
   "toc_cell": false,
   "toc_position": {},
   "toc_section_display": true,
   "toc_window_display": false
  },
  "widgets": {
   "application/vnd.jupyter.widget-state+json": {
    "2e523ef50c7a482eafd3418be8256c2c": {
     "model_module": "@jupyter-widgets/controls",
     "model_module_version": "1.5.0",
     "model_name": "DescriptionStyleModel",
     "state": {
      "_model_module": "@jupyter-widgets/controls",
      "_model_module_version": "1.5.0",
      "_model_name": "DescriptionStyleModel",
      "_view_count": null,
      "_view_module": "@jupyter-widgets/base",
      "_view_module_version": "1.2.0",
      "_view_name": "StyleView",
      "description_width": ""
     }
    },
    "3326da0e659643c5bf5d0be37e7a564e": {
     "model_module": "@jupyter-widgets/controls",
     "model_module_version": "1.5.0",
     "model_name": "ButtonStyleModel",
     "state": {
      "_model_module": "@jupyter-widgets/controls",
      "_model_module_version": "1.5.0",
      "_model_name": "ButtonStyleModel",
      "_view_count": null,
      "_view_module": "@jupyter-widgets/base",
      "_view_module_version": "1.2.0",
      "_view_name": "StyleView",
      "button_color": null,
      "font_weight": ""
     }
    },
    "3e13e8abc6074ad896752df447fc83ab": {
     "model_module": "@jupyter-widgets/base",
     "model_module_version": "1.2.0",
     "model_name": "LayoutModel",
     "state": {
      "_model_module": "@jupyter-widgets/base",
      "_model_module_version": "1.2.0",
      "_model_name": "LayoutModel",
      "_view_count": null,
      "_view_module": "@jupyter-widgets/base",
      "_view_module_version": "1.2.0",
      "_view_name": "LayoutView",
      "align_content": null,
      "align_items": null,
      "align_self": null,
      "border": null,
      "bottom": null,
      "display": null,
      "flex": null,
      "flex_flow": null,
      "grid_area": null,
      "grid_auto_columns": null,
      "grid_auto_flow": null,
      "grid_auto_rows": null,
      "grid_column": null,
      "grid_gap": null,
      "grid_row": null,
      "grid_template_areas": null,
      "grid_template_columns": null,
      "grid_template_rows": null,
      "height": null,
      "justify_content": null,
      "justify_items": null,
      "left": null,
      "margin": null,
      "max_height": null,
      "max_width": null,
      "min_height": null,
      "min_width": null,
      "object_fit": null,
      "object_position": null,
      "order": null,
      "overflow": null,
      "overflow_x": null,
      "overflow_y": null,
      "padding": null,
      "right": null,
      "top": null,
      "visibility": null,
      "width": null
     }
    },
    "5f4766aa665c4379b06790a8f2b4d95f": {
     "model_module": "@jupyter-widgets/controls",
     "model_module_version": "1.5.0",
     "model_name": "FileUploadModel",
     "state": {
      "_counter": 6,
      "_dom_classes": [],
      "_model_module": "@jupyter-widgets/controls",
      "_model_module_version": "1.5.0",
      "_model_name": "FileUploadModel",
      "_view_count": null,
      "_view_module": "@jupyter-widgets/controls",
      "_view_module_version": "1.5.0",
      "_view_name": "FileUploadView",
      "accept": "",
      "button_style": "",
      "data": [
       null
      ],
      "description": "Upload",
      "description_tooltip": null,
      "disabled": false,
      "error": "",
      "icon": "upload",
      "layout": "IPY_MODEL_f8b10f533ef7484f9ec7deb49326fe36",
      "metadata": [
       {
        "lastModified": 1680456269734,
        "name": "Teddy-Bear-Day.jpg",
        "size": 291783,
        "type": "image/jpeg"
       }
      ],
      "multiple": false,
      "style": "IPY_MODEL_3326da0e659643c5bf5d0be37e7a564e"
     }
    },
    "840078e742b046edae16ee2710c621ab": {
     "model_module": "@jupyter-widgets/controls",
     "model_module_version": "1.5.0",
     "model_name": "LabelModel",
     "state": {
      "_dom_classes": [],
      "_model_module": "@jupyter-widgets/controls",
      "_model_module_version": "1.5.0",
      "_model_name": "LabelModel",
      "_view_count": null,
      "_view_module": "@jupyter-widgets/controls",
      "_view_module_version": "1.5.0",
      "_view_name": "LabelView",
      "description": "",
      "description_tooltip": null,
      "layout": "IPY_MODEL_eafa8c0639534f93be2d69d723a2afa7",
      "placeholder": "​",
      "style": "IPY_MODEL_2e523ef50c7a482eafd3418be8256c2c",
      "value": ""
     }
    },
    "8521968fa1a94c028e39453aec99a264": {
     "model_module": "@jupyter-widgets/controls",
     "model_module_version": "1.5.0",
     "model_name": "DescriptionStyleModel",
     "state": {
      "_model_module": "@jupyter-widgets/controls",
      "_model_module_version": "1.5.0",
      "_model_name": "DescriptionStyleModel",
      "_view_count": null,
      "_view_module": "@jupyter-widgets/base",
      "_view_module_version": "1.2.0",
      "_view_name": "StyleView",
      "description_width": ""
     }
    },
    "8858eb581dc74a52bc9c61ebcab7d454": {
     "model_module": "@jupyter-widgets/base",
     "model_module_version": "1.2.0",
     "model_name": "LayoutModel",
     "state": {
      "_model_module": "@jupyter-widgets/base",
      "_model_module_version": "1.2.0",
      "_model_name": "LayoutModel",
      "_view_count": null,
      "_view_module": "@jupyter-widgets/base",
      "_view_module_version": "1.2.0",
      "_view_name": "LayoutView",
      "align_content": null,
      "align_items": null,
      "align_self": null,
      "border": null,
      "bottom": null,
      "display": null,
      "flex": null,
      "flex_flow": null,
      "grid_area": null,
      "grid_auto_columns": null,
      "grid_auto_flow": null,
      "grid_auto_rows": null,
      "grid_column": null,
      "grid_gap": null,
      "grid_row": null,
      "grid_template_areas": null,
      "grid_template_columns": null,
      "grid_template_rows": null,
      "height": null,
      "justify_content": null,
      "justify_items": null,
      "left": null,
      "margin": null,
      "max_height": null,
      "max_width": null,
      "min_height": null,
      "min_width": null,
      "object_fit": null,
      "object_position": null,
      "order": null,
      "overflow": null,
      "overflow_x": null,
      "overflow_y": null,
      "padding": null,
      "right": null,
      "top": null,
      "visibility": null,
      "width": null
     }
    },
    "91a4a4f8f85f4c7cabcc983004ad2b5c": {
     "model_module": "@jupyter-widgets/controls",
     "model_module_version": "1.5.0",
     "model_name": "LabelModel",
     "state": {
      "_dom_classes": [],
      "_model_module": "@jupyter-widgets/controls",
      "_model_module_version": "1.5.0",
      "_model_name": "LabelModel",
      "_view_count": null,
      "_view_module": "@jupyter-widgets/controls",
      "_view_module_version": "1.5.0",
      "_view_name": "LabelView",
      "description": "",
      "description_tooltip": null,
      "layout": "IPY_MODEL_3e13e8abc6074ad896752df447fc83ab",
      "placeholder": "​",
      "style": "IPY_MODEL_8521968fa1a94c028e39453aec99a264",
      "value": "Select your bear!"
     }
    },
    "97ec5b11f0f04295a18fffa68c2131e5": {
     "model_module": "@jupyter-widgets/controls",
     "model_module_version": "1.5.0",
     "model_name": "VBoxModel",
     "state": {
      "_dom_classes": [],
      "_model_module": "@jupyter-widgets/controls",
      "_model_module_version": "1.5.0",
      "_model_name": "VBoxModel",
      "_view_count": null,
      "_view_module": "@jupyter-widgets/controls",
      "_view_module_version": "1.5.0",
      "_view_name": "VBoxView",
      "box_style": "",
      "children": [
       "IPY_MODEL_91a4a4f8f85f4c7cabcc983004ad2b5c",
       "IPY_MODEL_5f4766aa665c4379b06790a8f2b4d95f",
       "IPY_MODEL_c4a4502f686e471fbf844be085fc2424",
       "IPY_MODEL_840078e742b046edae16ee2710c621ab"
      ],
      "layout": "IPY_MODEL_8858eb581dc74a52bc9c61ebcab7d454"
     }
    },
    "c4a4502f686e471fbf844be085fc2424": {
     "model_module": "@jupyter-widgets/output",
     "model_module_version": "1.0.0",
     "model_name": "OutputModel",
     "state": {
      "_dom_classes": [],
      "_model_module": "@jupyter-widgets/output",
      "_model_module_version": "1.0.0",
      "_model_name": "OutputModel",
      "_view_count": null,
      "_view_module": "@jupyter-widgets/output",
      "_view_module_version": "1.0.0",
      "_view_name": "OutputView",
      "layout": "IPY_MODEL_ef2540f2640046bf9bba043fc0e49331",
      "msg_id": "",
      "outputs": []
     }
    },
    "eafa8c0639534f93be2d69d723a2afa7": {
     "model_module": "@jupyter-widgets/base",
     "model_module_version": "1.2.0",
     "model_name": "LayoutModel",
     "state": {
      "_model_module": "@jupyter-widgets/base",
      "_model_module_version": "1.2.0",
      "_model_name": "LayoutModel",
      "_view_count": null,
      "_view_module": "@jupyter-widgets/base",
      "_view_module_version": "1.2.0",
      "_view_name": "LayoutView",
      "align_content": null,
      "align_items": null,
      "align_self": null,
      "border": null,
      "bottom": null,
      "display": null,
      "flex": null,
      "flex_flow": null,
      "grid_area": null,
      "grid_auto_columns": null,
      "grid_auto_flow": null,
      "grid_auto_rows": null,
      "grid_column": null,
      "grid_gap": null,
      "grid_row": null,
      "grid_template_areas": null,
      "grid_template_columns": null,
      "grid_template_rows": null,
      "height": null,
      "justify_content": null,
      "justify_items": null,
      "left": null,
      "margin": null,
      "max_height": null,
      "max_width": null,
      "min_height": null,
      "min_width": null,
      "object_fit": null,
      "object_position": null,
      "order": null,
      "overflow": null,
      "overflow_x": null,
      "overflow_y": null,
      "padding": null,
      "right": null,
      "top": null,
      "visibility": null,
      "width": null
     }
    },
    "ef2540f2640046bf9bba043fc0e49331": {
     "model_module": "@jupyter-widgets/base",
     "model_module_version": "1.2.0",
     "model_name": "LayoutModel",
     "state": {
      "_model_module": "@jupyter-widgets/base",
      "_model_module_version": "1.2.0",
      "_model_name": "LayoutModel",
      "_view_count": null,
      "_view_module": "@jupyter-widgets/base",
      "_view_module_version": "1.2.0",
      "_view_name": "LayoutView",
      "align_content": null,
      "align_items": null,
      "align_self": null,
      "border": null,
      "bottom": null,
      "display": null,
      "flex": null,
      "flex_flow": null,
      "grid_area": null,
      "grid_auto_columns": null,
      "grid_auto_flow": null,
      "grid_auto_rows": null,
      "grid_column": null,
      "grid_gap": null,
      "grid_row": null,
      "grid_template_areas": null,
      "grid_template_columns": null,
      "grid_template_rows": null,
      "height": null,
      "justify_content": null,
      "justify_items": null,
      "left": null,
      "margin": null,
      "max_height": null,
      "max_width": null,
      "min_height": null,
      "min_width": null,
      "object_fit": null,
      "object_position": null,
      "order": null,
      "overflow": null,
      "overflow_x": null,
      "overflow_y": null,
      "padding": null,
      "right": null,
      "top": null,
      "visibility": null,
      "width": null
     }
    },
    "f8b10f533ef7484f9ec7deb49326fe36": {
     "model_module": "@jupyter-widgets/base",
     "model_module_version": "1.2.0",
     "model_name": "LayoutModel",
     "state": {
      "_model_module": "@jupyter-widgets/base",
      "_model_module_version": "1.2.0",
      "_model_name": "LayoutModel",
      "_view_count": null,
      "_view_module": "@jupyter-widgets/base",
      "_view_module_version": "1.2.0",
      "_view_name": "LayoutView",
      "align_content": null,
      "align_items": null,
      "align_self": null,
      "border": null,
      "bottom": null,
      "display": null,
      "flex": null,
      "flex_flow": null,
      "grid_area": null,
      "grid_auto_columns": null,
      "grid_auto_flow": null,
      "grid_auto_rows": null,
      "grid_column": null,
      "grid_gap": null,
      "grid_row": null,
      "grid_template_areas": null,
      "grid_template_columns": null,
      "grid_template_rows": null,
      "height": null,
      "justify_content": null,
      "justify_items": null,
      "left": null,
      "margin": null,
      "max_height": null,
      "max_width": null,
      "min_height": null,
      "min_width": null,
      "object_fit": null,
      "object_position": null,
      "order": null,
      "overflow": null,
      "overflow_x": null,
      "overflow_y": null,
      "padding": null,
      "right": null,
      "top": null,
      "visibility": null,
      "width": null
     }
    }
   }
  }
 },
 "nbformat": 4,
 "nbformat_minor": 1
}
